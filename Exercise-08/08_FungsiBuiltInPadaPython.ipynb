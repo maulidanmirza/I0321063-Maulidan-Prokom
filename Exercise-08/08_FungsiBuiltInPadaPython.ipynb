{
 "cells": [
  {
   "cell_type": "markdown",
   "metadata": {},
   "source": [
    "# Exercise 8\n",
    "1. Fungsi is_sentence_case merupakan fungsi yang mengembalikan nilai boolean True jika huruf pertama pada input string berupa huruf kapital atau mengembalikan nilai boolean False jika huruf pertama pada input string bukan berupa huruf kapital. Salinlah kode dibawah ini dan lengkapi kode yang rumpang sehingga menghasilkan input yang diinginkan\n",
    "![](./images/08_FungsiFungsiString01.png)"
   ]
  },
  {
   "cell_type": "code",
   "execution_count": 1,
   "metadata": {},
   "outputs": [
    {
     "name": "stdout",
     "output_type": "stream",
     "text": [
      "True\n",
      "False\n"
     ]
    }
   ],
   "source": [
    "#Kerjakan nomor 1 disini\n",
    "def is_sentence_case(str):\n",
    "    if str[0].isupper():\n",
    "        return True\n",
    "    else:\n",
    "        return False\n",
    "\n",
    "print(is_sentence_case(\"Aku suka bahasa pemrograman python\"))\n",
    "print(is_sentence_case(\"aku suka bahasa pemrograman python\"))\n"
   ]
  },
  {
   "cell_type": "markdown",
   "metadata": {},
   "source": [
    "2. Fungsi vowel_letters_count merupakan fungsi yang mengembalikan jumlah huruf vokal pada input kalimat. Salinlah kode berikut dan lengkapi kode sehingga menghasilkan output yang diinginkan\n",
    "![](./images/08_FungsiFungsiString02.png)"
   ]
  },
  {
   "cell_type": "code",
   "execution_count": 2,
   "metadata": {},
   "outputs": [
    {
     "name": "stdout",
     "output_type": "stream",
     "text": [
      "10\n"
     ]
    }
   ],
   "source": [
    "#Kerjakan nomor 2 disini\n",
    "def vowel_letters_count(str):\n",
    "    vowel = \"aiueo\"\n",
    "    count = 0\n",
    "    for i in str:\n",
    "        if i in vowel:\n",
    "            count += 1\n",
    "    return count\n",
    "\n",
    "print(vowel_letters_count(\"Mahasiswa Teknik Industri Angkatan 2021\"))\n"
   ]
  },
  {
   "cell_type": "markdown",
   "metadata": {},
   "source": [
    "3. Fungsi replace_string merupakan fungsi yang berguna untuk mengganti substring lama pada input kalimat dengan substring baru namun fungsi ini hanya bekerja mengganti substring lama pada akhir kalimat. Salinlah kode berikut dan lengkapi kode yang masih rumpang sehingga menghasilkan output yang diharapkan\n",
    "![](./images/08_FungsiFungsiString03.png)"
   ]
  },
  {
   "cell_type": "code",
   "execution_count": 5,
   "metadata": {},
   "outputs": [
    {
     "name": "stdout",
     "output_type": "stream",
     "text": [
      "Budi memelihara 2 anjing dan 1 kucing\n",
      "Dia memperoleh banyak uang dengan cara menjual perhiasan berlian\n"
     ]
    }
   ],
   "source": [
    "#Kerjakan nomor 3 disini\n",
    "def replace_string(sentence, old, new):\n",
    "    if old in sentence:\n",
    "        i= sentence.index(old)\n",
    "        new_sentence = sentence[:i] + new + sentence[i+len(old):]\n",
    "        return new_sentence\n",
    "    return sentence\n",
    "\n",
    "print(replace_string(\"Budi memelihara 2 kucing dan 1 kucing\", \"kucing\", \"anjing\"))\n",
    "print(replace_string(\"Dia memperoleh banyak uang dengan cara menjual perhiasan berlian\", \"Berlian\", \"emas\"))\n"
   ]
  },
  {
   "cell_type": "markdown",
   "metadata": {},
   "source": [
    "4. Salinlah kode berikut dan lengkapi kode yang masih rumpang sehingga menghasilkan output yang diharapkan\n",
    "![](./images/08_FungsiFungsiString04.png)"
   ]
  },
  {
   "cell_type": "code",
   "execution_count": 6,
   "metadata": {},
   "outputs": [
    {
     "name": "stdout",
     "output_type": "stream",
     "text": [
      "kalimat1 sebelum perubahan:\n",
      "Praktikum Prokom\n",
      "\n",
      "kalimat1 setelah perubahan:\n",
      "****Praktikum Prokom****\n"
     ]
    }
   ],
   "source": [
    "#Kerjakan nomor 4 disini\n",
    "kalimat1 = \"Praktikum Prokom\"\n",
    "print(\"kalimat1 sebelum perubahan:\")\n",
    "print(kalimat1)\n",
    "print(\"\\nkalimat1 setelah perubahan:\")\n",
    "print(kalimat1.center(24, \"*\"))\n",
    "\n"
   ]
  },
  {
   "cell_type": "markdown",
   "metadata": {},
   "source": [
    "5. Salinlah kode berikut\n",
    "![](./images/08_FungsiFungsiString05.png)"
   ]
  },
  {
   "cell_type": "code",
   "execution_count": 7,
   "metadata": {},
   "outputs": [
    {
     "name": "stdout",
     "output_type": "stream",
     "text": [
      "Nomor indeks substring \"prokom\" pada kalimat2 adalah 17\n",
      "Nomor indeks huruf m pada substring \"prokom\" pada kalimat2 adalah 22\n",
      "Nomor indeks substring \"fisdas\" pada kalimat2 adalah 54\n",
      "Nomor indeks huruf d pada substring \"fisdas\" pada kalimat2 adalah 57\n"
     ]
    }
   ],
   "source": [
    "#Kerjakan nomor 5 disini\n",
    "kalimat2 = \"Selain praktikum prokom saya juga mengikuti praktikum fisdas\"\n",
    "print('Nomor indeks substring \"prokom\" pada kalimat2 adalah', kalimat2.find(\"prokom\"))\n",
    "print('Nomor indeks huruf m pada substring \"prokom\" pada kalimat2 adalah', kalimat2.find(\"m\", 17, 23))\n",
    "print('Nomor indeks substring \"fisdas\" pada kalimat2 adalah', kalimat2.find(\"fisdas\"))\n",
    "print('Nomor indeks huruf d pada substring \"fisdas\" pada kalimat2 adalah', kalimat2.find(\"d\", 54, 59))\n"
   ]
  },
  {
   "cell_type": "markdown",
   "metadata": {},
   "source": [
    "6. Untuk meningkatkan pemahaman kalian dalam fungsi-fungsi numerik, salin kode berikut dan lengkapi kode yang masih rumpang tersebut\n",
    "![](./images/08_FungsiFungsiNumerik.png)"
   ]
  },
  {
   "cell_type": "code",
   "execution_count": 8,
   "metadata": {},
   "outputs": [
    {
     "name": "stdout",
     "output_type": "stream",
     "text": [
      "Nilai mutlak dari bilangan1 adalah 4.39\n",
      "Hasil pembulatan ke bawah dari bilangan2 adalah 7\n",
      "Hasil pembulatan ke atas dari bilangan3 adalah 10\n",
      "Nilai max dari tiga bilangan tersebut adalah 9.13\n",
      "Nilai min dari tiga bilangan tersebut adalah -4.39\n",
      "Nilai akar kuadrat dari bilangan3 adalah 3.0215889859476257\n",
      "random 1 choice= 9.13\n",
      "random 2 choice= 9.13\n",
      "random 3 choice= -4.39\n"
     ]
    }
   ],
   "source": [
    "#Kerjakan nomor 6 disini\n",
    "import math\n",
    "bilangan1 = -4.39\n",
    "bilangan2 = 7.51\n",
    "bilangan3 = 9.13\n",
    "#cetak nilai mutlak dari bilangan1\n",
    "print(\"Nilai mutlak dari bilangan1 adalah\", math.fabs(bilangan1))\n",
    "#cetak hasil pembulatan ke bawah dari bilangan2\n",
    "print(\"Hasil pembulatan ke bawah dari bilangan2 adalah\", math.floor(bilangan2))\n",
    "#cetak hasil pembulatan ke atas dari bilangan3\n",
    "print(\"Hasil pembulatan ke atas dari bilangan3 adalah\", math.ceil(bilangan3))\n",
    "#cetak nilai max dari tiga bilangan tersebut\n",
    "print(\"Nilai max dari tiga bilangan tersebut adalah\", max(bilangan1, bilangan2, bilangan3))\n",
    "#cetak nilai min dari tiga bilangan tersebut\n",
    "print(\"Nilai min dari tiga bilangan tersebut adalah\", min(bilangan1, bilangan2, bilangan3))\n",
    "#cetak nilai akar kuadrat dari bilangan3\n",
    "print(\"Nilai akar kuadrat dari bilangan3 adalah\", math.sqrt(bilangan3))\n",
    "#buat 3 random coiche\n",
    "import random\n",
    "list = [-4.39, 7.51, 9.13]\n",
    "print('random 1 choice=', random.choice(list))\n",
    "print('random 2 choice=', random.choice(list))\n",
    "print('random 3 choice=', random.choice(list))\n"
   ]
  },
  {
   "cell_type": "markdown",
   "metadata": {},
   "source": [
    "7. Untuk meningkatkan pemahaman kalian dalam fungsi-fungsi dictionary, salin kode berikut dan lengkapi kode yang masih rumpang tersebut\n",
    "![](./images/08_FungsiFungsiDictionary.png)"
   ]
  },
  {
   "cell_type": "code",
   "execution_count": 9,
   "metadata": {},
   "outputs": [
    {
     "name": "stdout",
     "output_type": "stream",
     "text": [
      "a = {'satu': 3, 'dua': 4, 'tiga': 5}\n",
      "b = {'satu': 3, 'dua': 4}\n",
      "Panjang dict a = 3\n",
      "Panjang dict b = 2\n",
      "panjang dict a = 2\n",
      "panjang dict b = 1\n",
      "a = {'satu': 3, 'dua': 4, 'tiga': 5}\n",
      "b = {'satu': 3, 'dua': 4}\n",
      "a = {'satu': 3, 'dua': 4, 'tiga': 5}\n",
      "item = dict_items([('satu', 3), ('dua', 4), ('tiga', 5)])\n",
      "key = dict_keys(['satu', 'dua', 'tiga'])\n",
      "value = dict_values([3, 4, 5])\n"
     ]
    }
   ],
   "source": [
    "#Kerjakan nomor 7 disini\n",
    "a = {'satu' : 3, 'dua' : 4, 'tiga' : 5}\n",
    "b = {'satu' : 3, 'dua' : 4}\n",
    "print(\"a =\", a)\n",
    "print(\"b =\", b)\n",
    "#cetak panjang dict a dan b\n",
    "print(\"Panjang dict a =\", len(a))\n",
    "print(\"Panjang dict b =\", len(b))\n",
    "#hapus elemen pada dict a dan b\n",
    "del a['satu']\n",
    "del b['dua']\n",
    "print('panjang dict a =', len(a))\n",
    "print('panjang dict b =', len(b))\n",
    "a = {'satu' : 3, 'dua' : 4, 'tiga' : 5}\n",
    "print(\"a =\", a)\n",
    "b = {'satu' : 3, 'dua' : 4}\n",
    "print(\"b =\", b)\n",
    "a = {'satu' : 3, 'dua' : 4, 'tiga' : 5}\n",
    "print(\"a =\", a)\n",
    "#cetak item, key dan value dari dict a \n",
    "item = a.items()\n",
    "key = a.keys()\n",
    "value = a.values()\n",
    "print(\"item =\", item)\n",
    "print(\"key =\", key)\n",
    "print(\"value =\", value)\n"
   ]
  },
  {
   "cell_type": "markdown",
   "metadata": {},
   "source": [
    "8. Untuk meningkatkan pemahaman kalian dalam fungsi-fungsi list, salin kode berikut dan lengkapi kode yang masih rumpang tersebut\n",
    "![](./images/08_FungsiFungsiList01.png)\n",
    "![](./images/08_FungsiFungsiList02.png)"
   ]
  },
  {
   "cell_type": "code",
   "execution_count": 10,
   "metadata": {},
   "outputs": [
    {
     "name": "stdout",
     "output_type": "stream",
     "text": [
      "c = [0, 2, 0, 7, 0, 7]\n",
      "c setelah ditambah = [0, 2, 0, 7, 0, 7, 1, 7]\n",
      "jumlah nilai 0 = 3\n",
      "jumlah nilai 7 = 3\n",
      "index 2 = 1\n",
      "index 7 = 3\n",
      "c = [0, 2, 0, 7, 0, 7, 1]\n",
      "c = [0, 2, 0, 7, 0, 7]\n",
      "c = [0, 0, 7, 0, 7]\n",
      "d = [14]\n",
      "d = [14, 27]\n",
      "d = [99, 14, 27]\n",
      "d = [99, 14, 16, 27]\n",
      "d = [99, 16]\n",
      "e = ['ai', 'oi', 'ei', 'au']\n",
      "e setelah di reverse = ['au', 'ei', 'oi', 'ai']\n",
      "e = ['ai', 'au', 'ei', 'oi']\n",
      "e = ['oi', 'ei', 'au', 'ai']\n"
     ]
    }
   ],
   "source": [
    "#Kerjakan nomor 8 disini\n",
    "c = [0, 2, 0, 7, 0, 7]\n",
    "print(\"c =\", c)\n",
    "#gunakan fungsi append untuk menambah angka 1 dan 7\n",
    "c.append(1)\n",
    "c.append(7)\n",
    "print('c setelah ditambah =', c)\n",
    "#hitung jumlah nilai 0 dan 7\n",
    "print(\"jumlah nilai 0 =\", c.count(0))\n",
    "print(\"jumlah nilai 7 =\", c.count(7))\n",
    "#cari nomer indeks dari 2 dan 7 pada list c\n",
    "print(\"index 2 =\", c.index(2))\n",
    "print(\"index 7 =\", c.index(7))\n",
    "#hapus angka 7 pada list c yang terletak diakhir menggunakan fungsi pop\n",
    "c.pop()\n",
    "print('c =', c)\n",
    "#hapus angka 1 pada list c menggunakan fungsi pop\n",
    "c.pop()\n",
    "print('c =', c)\n",
    "#hapus angka 2 pada list c menggunakan fungsi pop\n",
    "c.pop(1)\n",
    "print('c =', c)\n",
    "d = [14]\n",
    "print(\"d =\", d)\n",
    "#menambah angka 27 pada list d\n",
    "d.append(27)\n",
    "print(\"d =\", d)\n",
    "#menambah angka 99 di posisi paling awal menggunakan insert\n",
    "d.insert(0, 99)\n",
    "print(\"d =\", d)\n",
    "#menambah angka  16 di posisi sebelum 27 menggunakan insert\n",
    "d.insert(2, 16)\n",
    "print(\"d =\", d)\n",
    "#hapus angka 14 dan 27 dengan remove\n",
    "d.remove(14)\n",
    "d.remove(27)\n",
    "print(\"d =\", d)\n",
    "e = [\"ai\", \"oi\", \"ei\", \"au\"]\n",
    "print(\"e =\", e)\n",
    "#reverse urutan e\n",
    "e.reverse()\n",
    "print(\"e setelah di reverse =\", e)\n",
    "#sort list e secara asceding\n",
    "e.sort()\n",
    "print(\"e =\", e)\n",
    "#sort list e secara descending\n",
    "e.sort(reverse=True)\n",
    "print(\"e =\", e)\n"
   ]
  },
  {
   "cell_type": "markdown",
   "metadata": {},
   "source": [
    "### Cara Pengumpulan\n",
    "\n",
    "1. Buka *New Terminal*\n",
    "2. Pastikan *path* Terminal adalah folder repositori kalian (NIM-Nama-Prokom).\n",
    "3. Tambahkan file yang akan ditrack dengan `git add <nama file>`. Nama file bisa diubah . (titik) yang artinya semua file dalam folder akan ditrack.\n",
    "4. Lakukan commit perubahan dengan `git commit -m <deskripsi>`.\n",
    "5. Lakukan push dengan `git push -u origin <nama branch>`. Nama branch dapat diketahui dengan `git branch`.\n",
    "6. Pastikan Exercise-08 telah terupload dan dapat diakses di repositori dengan mengaksesnya di browser."
   ]
  },
  {
   "cell_type": "markdown",
   "metadata": {},
   "source": [
    "***\n",
    "<h1 align=\"center\">Well Done!!!</h1> \n",
    "\n",
    "***"
   ]
  }
 ],
 "metadata": {
  "interpreter": {
   "hash": "cb44c26d5255c8f4d80a30a71905619c6c2bffff65aa68cc0e9dfe83d2fa04fd"
  },
  "kernelspec": {
   "display_name": "Python 3.9.7 64-bit",
   "language": "python",
   "name": "python3"
  },
  "language_info": {
   "codemirror_mode": {
    "name": "ipython",
    "version": 3
   },
   "file_extension": ".py",
   "mimetype": "text/x-python",
   "name": "python",
   "nbconvert_exporter": "python",
   "pygments_lexer": "ipython3",
   "version": "3.9.7"
  },
  "orig_nbformat": 4
 },
 "nbformat": 4,
 "nbformat_minor": 2
}
