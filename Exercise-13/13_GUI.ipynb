{
 "cells": [
  {
   "cell_type": "markdown",
   "metadata": {},
   "source": [
    "***\n",
    "<h1 align=\"center\">Exercise 13</h1> \n",
    "\n",
    "***\n",
    "## GUI (*Graphical User Interface*)\n",
    "\n",
    "### 1. Pemrograman GUI dengan Tkinter\n",
    "Buatlah kode seperti contoh berikut pada cell di bawah \n",
    "\n",
    "![](./images/13_Tkinter.png)"
   ]
  },
  {
   "cell_type": "code",
   "execution_count": 1,
   "metadata": {},
   "outputs": [],
   "source": [
    "#kerjakan disini\n",
    "import tkinter\n",
    "\n",
    "mainform = tkinter.Tk()\n",
    "\n",
    "mainform.wm_title('Hello')\n",
    "mainform.mainloop()\n"
   ]
  },
  {
   "cell_type": "markdown",
   "metadata": {},
   "source": [
    "### 2. Membuat dan Menempatkan Kontrol di dalam Form\n",
    "Buatlah kode seperti contoh berikut pada cell di bawah\n",
    "\n",
    "![](./images/13_Form.png)"
   ]
  },
  {
   "cell_type": "code",
   "execution_count": 4,
   "metadata": {},
   "outputs": [
    {
     "data": {
      "text/plain": [
       "<bound method Misc.mainloop of <tkinter.Tk object .>>"
      ]
     },
     "execution_count": 4,
     "metadata": {},
     "output_type": "execute_result"
    }
   ],
   "source": [
    "#kerjakan disini\n",
    "import tkinter\n",
    "\n",
    "mainform = tkinter.Tk()\n",
    "#membuat objek label\n",
    "lbl = tkinter.Label(mainform)\n",
    "lbl['text'] = \"Masukkan nama anda\"\n",
    "lbl.pack()\n",
    "#membuat objek entry\n",
    "txt = tkinter.Button(mainform)\n",
    "txt['width'] = 40\n",
    "txt.pack()\n",
    "#membuat objek button\n",
    "btn = tkinter.Button(mainform)\n",
    "btn['text'] = \"Lanjut\"\n",
    "btn.pack()\n",
    "\n",
    "mainform.wm_title('Hello!')\n",
    "mainform.mainloop\n"
   ]
  },
  {
   "cell_type": "markdown",
   "metadata": {},
   "source": [
    "### 3. Menangani Event\n",
    "Buatlah kode seperti contoh berikut pada cell di bawah\n",
    "\n",
    "![](./images/13_Buttonclick.png)"
   ]
  },
  {
   "cell_type": "code",
   "execution_count": 5,
   "metadata": {},
   "outputs": [
    {
     "data": {
      "text/plain": [
       "<bound method Misc.mainloop of <tkinter.Tk object .>>"
      ]
     },
     "execution_count": 5,
     "metadata": {},
     "output_type": "execute_result"
    }
   ],
   "source": [
    "#kerjakan disini\n",
    "import tkinter\n",
    "import tkinter.messagebox as messagebox\n",
    "\n",
    "mainform = tkinter.Tk()\n",
    "#membuat event\n",
    "def buttonclick () :\n",
    "    messagebox.showinfo(\"Halo\", \"Halo %s, apa kabar?\" % (txt.get()))\n",
    "#membuat objek label\n",
    "lbl = tkinter.Label(mainform)\n",
    "lbl['text'] = \"Masukkan nama anda\"\n",
    "lbl.pack()\n",
    "#membuat objek entry\n",
    "txt = tkinter.Button(mainform)\n",
    "txt['width'] = 40\n",
    "txt.pack()\n",
    "#membuat objek button\n",
    "btn = tkinter.Button(mainform)\n",
    "btn['text'] = \"Lanjut\"\n",
    "btn.pack()\n",
    "\n",
    "mainform.wm_title('Hello!')\n",
    "mainform.mainloop\n"
   ]
  },
  {
   "cell_type": "markdown",
   "metadata": {},
   "source": [
    "### 4. Mengatur Tampilan Form dengan Grid Manager\n",
    "Buatlah kode seperti contoh berikut pada cell di bawah\n",
    "\n",
    "![](./images/13_RememberA.png)\n",
    "![](./images/13_RememberB.png)"
   ]
  },
  {
   "cell_type": "code",
   "execution_count": 3,
   "metadata": {},
   "outputs": [
    {
     "data": {
      "text/plain": [
       "<bound method Misc.mainloop of <tkinter.Tk object .>>"
      ]
     },
     "execution_count": 3,
     "metadata": {},
     "output_type": "execute_result"
    }
   ],
   "source": [
    "#kerjakan disini\n",
    "import ____"
   ]
  },
  {
   "cell_type": "markdown",
   "metadata": {},
   "source": [
    "### 5. Menggunakan Kelas Frame\n",
    "Buatlah kode seperti contoh berikut pada cell di bawah\n",
    "\n",
    "![](./images/13_Frame.png)"
   ]
  },
  {
   "cell_type": "code",
   "execution_count": null,
   "metadata": {},
   "outputs": [],
   "source": [
    "#kerjakan disini\n",
    "import _____\n"
   ]
  },
  {
   "cell_type": "markdown",
   "metadata": {},
   "source": [
    "### 6. Kontrol Button\n",
    "Buatlah kode seperti contoh berikut pada cell di bawah\n",
    "\n",
    "![](./images/13_ClickHere.png)"
   ]
  },
  {
   "cell_type": "code",
   "execution_count": null,
   "metadata": {},
   "outputs": [],
   "source": [
    "#kerjakan disini\n",
    "import _____\n"
   ]
  },
  {
   "cell_type": "markdown",
   "metadata": {},
   "source": [
    "### 7. Kontrol CheckButton\n",
    "Buatlah kode seperti contoh berikut pada cell di bawah\n",
    "\n",
    "![](./images/13_HobiA.png)\n",
    "![](./images/13_HobiB.png)"
   ]
  },
  {
   "cell_type": "code",
   "execution_count": null,
   "metadata": {},
   "outputs": [],
   "source": [
    "#kerjakan disini\n",
    "import _____\n"
   ]
  },
  {
   "cell_type": "markdown",
   "metadata": {},
   "source": [
    "### 8. Kontrol Entry\n",
    "Buatlah kode seperti contoh berikut pada cell di bawah\n",
    "\n",
    "![](./images/13_EntryA.png)\n",
    "![](./images/13_EntryB.png)"
   ]
  },
  {
   "cell_type": "code",
   "execution_count": null,
   "metadata": {},
   "outputs": [],
   "source": [
    "#kerjakan disini\n",
    "import _____\n"
   ]
  },
  {
   "cell_type": "markdown",
   "metadata": {},
   "source": [
    "***\n",
    "<h1 align=\"center\">Well Done!!!</h1> \n",
    "\n",
    "***"
   ]
  }
 ],
 "metadata": {
  "interpreter": {
   "hash": "cb44c26d5255c8f4d80a30a71905619c6c2bffff65aa68cc0e9dfe83d2fa04fd"
  },
  "kernelspec": {
   "display_name": "Python 3.9.7 64-bit",
   "language": "python",
   "name": "python3"
  },
  "language_info": {
   "codemirror_mode": {
    "name": "ipython",
    "version": 3
   },
   "file_extension": ".py",
   "mimetype": "text/x-python",
   "name": "python",
   "nbconvert_exporter": "python",
   "pygments_lexer": "ipython3",
   "version": "3.9.7"
  },
  "orig_nbformat": 4
 },
 "nbformat": 4,
 "nbformat_minor": 2
}
