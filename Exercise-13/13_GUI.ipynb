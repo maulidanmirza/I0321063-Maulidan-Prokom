{
 "cells": [
  {
   "cell_type": "markdown",
   "metadata": {},
   "source": [
    "***\n",
    "<h1 align=\"center\">Exercise 13</h1> \n",
    "\n",
    "***\n",
    "## GUI (*Graphical User Interface*)\n",
    "\n",
    "### 1. Pemrograman GUI dengan Tkinter\n",
    "Buatlah kode seperti contoh berikut pada cell di bawah \n",
    "\n",
    "![](./images/13_Tkinter.png)"
   ]
  },
  {
   "cell_type": "code",
   "execution_count": 1,
   "metadata": {},
   "outputs": [],
   "source": [
    "#kerjakan disini\n",
    "import tkinter\n",
    "\n",
    "mainform = tkinter.Tk()\n",
    "\n",
    "mainform.wm_title('Hello')\n",
    "mainform.mainloop()\n"
   ]
  },
  {
   "cell_type": "markdown",
   "metadata": {},
   "source": [
    "### 2. Membuat dan Menempatkan Kontrol di dalam Form\n",
    "Buatlah kode seperti contoh berikut pada cell di bawah\n",
    "\n",
    "![](./images/13_Form.png)"
   ]
  },
  {
   "cell_type": "code",
   "execution_count": 1,
   "metadata": {},
   "outputs": [
    {
     "data": {
      "text/plain": [
       "<bound method Misc.mainloop of <tkinter.Tk object .>>"
      ]
     },
     "execution_count": 1,
     "metadata": {},
     "output_type": "execute_result"
    }
   ],
   "source": [
    "#kerjakan disini\n",
    "import tkinter\n",
    "\n",
    "mainform = tkinter.Tk()\n",
    "#membuat objek label\n",
    "lbl = tkinter.Label(mainform)\n",
    "lbl['text'] = \"Masukkan nama anda\"\n",
    "lbl.pack()\n",
    "#membuat objek entry\n",
    "txt = tkinter.Button(mainform)\n",
    "txt['width'] = 40\n",
    "txt.pack()\n",
    "#membuat objek button\n",
    "btn = tkinter.Button(mainform)\n",
    "btn['text'] = \"Lanjut\"\n",
    "btn.pack()\n",
    "\n",
    "mainform.wm_title('Hello!')\n",
    "mainform.mainloop\n"
   ]
  },
  {
   "cell_type": "markdown",
   "metadata": {},
   "source": [
    "### 3. Menangani Event\n",
    "Buatlah kode seperti contoh berikut pada cell di bawah\n",
    "\n",
    "![](./images/13_Buttonclick.png)"
   ]
  },
  {
   "cell_type": "code",
   "execution_count": 5,
   "metadata": {},
   "outputs": [
    {
     "data": {
      "text/plain": [
       "<bound method Misc.mainloop of <tkinter.Tk object .>>"
      ]
     },
     "execution_count": 5,
     "metadata": {},
     "output_type": "execute_result"
    }
   ],
   "source": [
    "#kerjakan disini\n",
    "import tkinter\n",
    "import tkinter.messagebox as messagebox\n",
    "\n",
    "mainform = tkinter.Tk()\n",
    "#membuat event\n",
    "def buttonclick () :\n",
    "    messagebox.showinfo(\"Halo\", \"Halo %s, apa kabar?\" % (txt.get()))\n",
    "#membuat objek label\n",
    "lbl = tkinter.Label(mainform)\n",
    "lbl['text'] = \"Masukkan nama anda\"\n",
    "lbl.pack()\n",
    "#membuat objek entry\n",
    "txt = tkinter.Button(mainform)\n",
    "txt['width'] = 40\n",
    "txt.pack()\n",
    "#membuat objek button\n",
    "btn = tkinter.Button(mainform)\n",
    "btn['text'] = \"Lanjut\"\n",
    "btn.pack()\n",
    "\n",
    "mainform.wm_title('Hello!')\n",
    "mainform.mainloop\n"
   ]
  },
  {
   "cell_type": "markdown",
   "metadata": {},
   "source": [
    "### 4. Mengatur Tampilan Form dengan Grid Manager\n",
    "Buatlah kode seperti contoh berikut pada cell di bawah\n",
    "\n",
    "![](./images/13_RememberA.png)\n",
    "![](./images/13_RememberB.png)"
   ]
  },
  {
   "cell_type": "code",
   "execution_count": 1,
   "metadata": {},
   "outputs": [],
   "source": [
    "#kerjakan disini\n",
    "import tkinter\n",
    "\n",
    "mainform = tkinter.Tk()\n",
    "\n",
    "lbl1 = tkinter.Label(mainform)\n",
    "lbl1['text'] = \"Masukkan nama anda\"\n",
    "lbl1.grid(row=0, column=0, sticky=tkinter.E)\n",
    "\n",
    "txt1 = tkinter.Entry(mainform)\n",
    "txt1['width'] = 40\n",
    "txt1.grid(row=0, column=1, columnspan=2)\n",
    "\n",
    "txt2 = tkinter.Entry(mainform)\n",
    "txt2['width'] = 40\n",
    "txt2.grid(row=1, column=1, columnspan=2)\n",
    "\n",
    "chk = tkinter.Checkbutton(mainform)\n",
    "chk['text'] = \"Remember me\"\n",
    "chk.grid(row=2, column=0)\n",
    "\n",
    "\n",
    "btn1 = tkinter.Button(mainform)\n",
    "btn1['text'] = \"Lanjut\"\n",
    "btn1.grid(row=2, column=1, sticky=tkinter.N+tkinter.E+tkinter.S+tkinter.W)\n",
    "\n",
    "btn2 = tkinter.Button(mainform)\n",
    "btn2['text'] = \"Exit\"\n",
    "btn2.grid(row=2, column=2, sticky=tkinter.N+tkinter.E+tkinter.S+tkinter.W)\n",
    "mainform.wm_title('Hello')\n",
    "mainform.mainloop()"
   ]
  },
  {
   "cell_type": "markdown",
   "metadata": {},
   "source": [
    "### 5. Menggunakan Kelas Frame\n",
    "Buatlah kode seperti contoh berikut pada cell di bawah\n",
    "\n",
    "![](./images/13_Frame.png)"
   ]
  },
  {
   "cell_type": "code",
   "execution_count": 3,
   "metadata": {},
   "outputs": [],
   "source": [
    "#kerjakan disini\n",
    "import tkinter\n",
    "\n",
    "mainform = tkinter.Frame()\n",
    "mainform.grid()\n",
    "\n",
    "btnout = tkinter.Button(mainform, text=\"keluar\", command=mainform.destroy)\n",
    "btnout.grid(sticky=tkinter.E+tkinter.S, padx=90,pady=90)\n",
    "mainform.master.title(\"Demo Frame\")\n",
    "mainform.mainloop()\n"
   ]
  },
  {
   "cell_type": "markdown",
   "metadata": {},
   "source": [
    "### 6. Kontrol Button\n",
    "Buatlah kode seperti contoh berikut pada cell di bawah\n",
    "\n",
    "![](./images/13_ClickHere.png)"
   ]
  },
  {
   "cell_type": "code",
   "execution_count": 2,
   "metadata": {},
   "outputs": [],
   "source": [
    "#kerjakan disini\n",
    "import tkinter\n",
    "import tkinter.messagebox\n",
    "\n",
    "def buttonclick():\n",
    "    tkinter.messagebox.showinfo(\"Informasi\", \"Hello!\")\n",
    "def main():\n",
    "    mainform = tkinter.Tk()\n",
    "    mainform.title(\"Demo button\")\n",
    "    mainform.geometry(\"280x200\")\n",
    "\n",
    "    button = tkinter.Button(mainform, text=\"Click here!\", background=\"#334477\", width=10, command=buttonclick)\n",
    "    button.grid(sticky=tkinter.E+tkinter.S, padx=90, pady=120)\n",
    "if __name__ == '__main__':\n",
    "    main()\n"
   ]
  },
  {
   "cell_type": "markdown",
   "metadata": {},
   "source": [
    "### 7. Kontrol CheckButton\n",
    "Buatlah kode seperti contoh berikut pada cell di bawah\n",
    "\n",
    "![](./images/13_HobiA.png)\n",
    "![](./images/13_HobiB.png)"
   ]
  },
  {
   "cell_type": "code",
   "execution_count": 1,
   "metadata": {},
   "outputs": [
    {
     "name": "stderr",
     "output_type": "stream",
     "text": [
      "Exception in Tkinter callback\n",
      "Traceback (most recent call last):\n",
      "  File \"c:\\Users\\Mirza\\AppData\\Local\\Programs\\Python\\Python39\\lib\\tkinter\\__init__.py\", line 1892, in __call__\n",
      "    return self.func(*args)\n",
      "  File \"C:\\Users\\Mirza\\AppData\\Local\\Temp\\ipykernel_14384\\226445852.py\", line 17, in getchoice\n",
      "    if var2.get() == 1: pilihan(\"Olahraga\")\n",
      "TypeError: 'list' object is not callable\n"
     ]
    }
   ],
   "source": [
    "#kerjakan disini\n",
    "import tkinter\n",
    "import tkinter.messagebox\n",
    "\n",
    "def main():\n",
    "    mainform = tkinter.Tk()\n",
    "    mainform.title(\"Demo button\")\n",
    "    mainform.geometry(\"280x200\")\n",
    "\n",
    "    var1 = tkinter.IntVar()\n",
    "    var2 = tkinter.IntVar()\n",
    "    var3 = tkinter.IntVar()\n",
    "\n",
    "    def getchoice():\n",
    "        pilihan = [];\n",
    "        if var1.get() == 1: pilihan.append(\"Musik\")\n",
    "        if var2.get() == 1: pilihan(\"Olahraga\")\n",
    "        if var3.get() == 1: pilihan(\"Membaca\")\n",
    "        tkinter.messagebox.showinfo(\"Informasi\", str(pilihan))\n",
    "\n",
    "    I = tkinter.Label(mainform, text=\"Hobi anda (pilih salah satu): \")\n",
    "    I.grid(row=0, sticky=tkinter.W)\n",
    "\n",
    "    c1 = tkinter.Checkbutton(mainform, variable=var1, text=\"Musik\")\n",
    "    c1.grid(row=1, sticky=tkinter.W)\n",
    "\n",
    "    c1 = tkinter.Checkbutton(mainform, variable=var2, text=\"Olahraga\")\n",
    "    c1.grid(row=2, sticky=tkinter.W)\n",
    "\n",
    "    c1 = tkinter.Checkbutton(mainform, variable=var3, text=\"Membaca\")\n",
    "    c1.grid(row=3, sticky=tkinter.W)\n",
    "\n",
    "    b1 = tkinter.Button(mainform, text=\"OK\", command=getchoice, width=10)\n",
    "    b1.grid(row=4, sticky=tkinter.W, padx=4, pady=4)\n",
    "    b2 = tkinter.Button(mainform, text=\"Keluar\", command=quit, width=10)\n",
    "    b2.grid(row=4, sticky=tkinter.W, padx=90, pady=4)\n",
    "\n",
    "    mainform.mainloop()\n",
    "if __name__ == '__main__':\n",
    "    main()"
   ]
  },
  {
   "cell_type": "markdown",
   "metadata": {},
   "source": [
    "### 8. Kontrol Entry\n",
    "Buatlah kode seperti contoh berikut pada cell di bawah\n",
    "\n",
    "![](./images/13_EntryA.png)\n",
    "![](./images/13_EntryB.png)"
   ]
  },
  {
   "cell_type": "code",
   "execution_count": 2,
   "metadata": {},
   "outputs": [],
   "source": [
    "#kerjakan disini\n",
    "import tkinter\n",
    "import tkinter.messagebox\n",
    "\n",
    "def main():\n",
    "    mainform = tkinter.Tk()\n",
    "    mainform.title(\"Demo button\")\n",
    "    mainform.geometry(\"155x100\")\n",
    "\n",
    "    var1 = tkinter.StringVar()\n",
    "\n",
    "    var1.set(\"Python...\")\n",
    "\n",
    "    def kosongkan():\n",
    "        var1.set(\"\")\n",
    "    def ambilteks():\n",
    "        tkinter.messagebox.showinfo(\"Informasi\", var1.get())\n",
    "\n",
    "    I = tkinter.Label(mainform, text=\"Masukkan teks\")\n",
    "    I.grid(row=0, column=0, columnspan=2, sticky=tkinter.W+tkinter.E, padx=4, pady=4)\n",
    "\n",
    "    e = tkinter.Entry(mainform, textvariable=var1)\n",
    "    e.grid(row=1, column=0, columnspan=2, sticky=tkinter.W+tkinter.E, padx=4, pady=4)\n",
    "\n",
    "    b1 = tkinter.Button(mainform, text=\"Kosongkan\", command=kosongkan)\n",
    "    b1.grid(row=2, column=0, padx=4, pady=4)\n",
    "    b2= tkinter.Button(mainform, text=\"Ambil teks\", command=ambilteks)\n",
    "    b2.grid(row=2, column=1, padx=4, pady=4)\n",
    "\n",
    "    mainform.mainloop()\n",
    "if __name__ == '__main__':\n",
    "    main()\n"
   ]
  },
  {
   "cell_type": "markdown",
   "metadata": {},
   "source": [
    "***\n",
    "<h1 align=\"center\">Well Done!!!</h1> \n",
    "\n",
    "***"
   ]
  }
 ],
 "metadata": {
  "interpreter": {
   "hash": "cb44c26d5255c8f4d80a30a71905619c6c2bffff65aa68cc0e9dfe83d2fa04fd"
  },
  "kernelspec": {
   "display_name": "Python 3.9.7 64-bit",
   "language": "python",
   "name": "python3"
  },
  "language_info": {
   "codemirror_mode": {
    "name": "ipython",
    "version": 3
   },
   "file_extension": ".py",
   "mimetype": "text/x-python",
   "name": "python",
   "nbconvert_exporter": "python",
   "pygments_lexer": "ipython3",
   "version": "3.9.7"
  },
  "orig_nbformat": 4
 },
 "nbformat": 4,
 "nbformat_minor": 2
}
